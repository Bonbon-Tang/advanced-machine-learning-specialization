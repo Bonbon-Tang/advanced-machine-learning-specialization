{
  "nbformat": 4,
  "nbformat_minor": 0,
  "metadata": {
    "kernelspec": {
      "display_name": "Python 3",
      "language": "python",
      "name": "python3"
    },
    "language_info": {
      "codemirror_mode": {
        "name": "ipython",
        "version": 3
      },
      "file_extension": ".py",
      "mimetype": "text/x-python",
      "name": "python",
      "nbconvert_exporter": "python",
      "pygments_lexer": "ipython3",
      "version": "3.6.1"
    },
    "colab": {
      "name": "Particle_identification.ipynb",
      "provenance": [],
      "collapsed_sections": []
    }
  },
  "cells": [
    {
      "cell_type": "markdown",
      "metadata": {
        "id": "e-zdnI7haWSP",
        "colab_type": "text"
      },
      "source": [
        "# About\n",
        "\n",
        "In this programming assignment you will train a classifier to identify type of a particle. There are six particle types: electron, proton, muon, kaon, pion and ghost. Ghost is a particle with other type than the first five or a detector noise. \n",
        "\n",
        "Different particle types remain different responses in the detector systems or subdetectors. Thre are five systems: tracking system, ring imaging Cherenkov detector (RICH), electromagnetic and hadron calorimeters, and muon system.\n",
        "\n",
        "![pid](pic/pid.jpg)\n",
        "\n",
        "You task is to identify a particle type using the responses in the detector systems. \n",
        "\n",
        "# Attention\n",
        "\n",
        "Data files you should download from https://github.com/hse-aml/hadron-collider-machine-learning/releases/tag/Week_2"
      ]
    },
    {
      "cell_type": "code",
      "metadata": {
        "id": "PCeZLbARaWSQ",
        "colab_type": "code",
        "colab": {}
      },
      "source": [
        "%matplotlib inline\n",
        "import matplotlib.pyplot as plt\n",
        "import pandas\n",
        "import numpy\n",
        "from sklearn.model_selection import train_test_split\n",
        "from sklearn.metrics import log_loss\n",
        "import utils"
      ],
      "execution_count": 0,
      "outputs": []
    },
    {
      "cell_type": "markdown",
      "metadata": {
        "id": "fAZwQYAhaWST",
        "colab_type": "text"
      },
      "source": [
        "# Download data\n",
        "\n",
        "Download data used to train classifiers."
      ]
    },
    {
      "cell_type": "markdown",
      "metadata": {
        "id": "I7hZiz5WaWSU",
        "colab_type": "text"
      },
      "source": [
        "### Read training file"
      ]
    },
    {
      "cell_type": "code",
      "metadata": {
        "id": "Wp600vIdaWSU",
        "colab_type": "code",
        "colab": {}
      },
      "source": [
        "data = pandas.read_csv('training.csv.gz')"
      ],
      "execution_count": 0,
      "outputs": []
    },
    {
      "cell_type": "code",
      "metadata": {
        "id": "hNdLQnPLaWSY",
        "colab_type": "code",
        "colab": {
          "base_uri": "https://localhost:8080/",
          "height": 216
        },
        "outputId": "e699e4a0-b5d0-4a20-deca-9a4a67381b55"
      },
      "source": [
        "data.head()"
      ],
      "execution_count": 4,
      "outputs": [
        {
          "output_type": "execute_result",
          "data": {
            "text/html": [
              "<div>\n",
              "<style scoped>\n",
              "    .dataframe tbody tr th:only-of-type {\n",
              "        vertical-align: middle;\n",
              "    }\n",
              "\n",
              "    .dataframe tbody tr th {\n",
              "        vertical-align: top;\n",
              "    }\n",
              "\n",
              "    .dataframe thead th {\n",
              "        text-align: right;\n",
              "    }\n",
              "</style>\n",
              "<table border=\"1\" class=\"dataframe\">\n",
              "  <thead>\n",
              "    <tr style=\"text-align: right;\">\n",
              "      <th></th>\n",
              "      <th>TrackP</th>\n",
              "      <th>TrackNDoFSubdetector2</th>\n",
              "      <th>BremDLLbeElectron</th>\n",
              "      <th>MuonLooseFlag</th>\n",
              "      <th>FlagSpd</th>\n",
              "      <th>SpdE</th>\n",
              "      <th>EcalDLLbeElectron</th>\n",
              "      <th>DLLmuon</th>\n",
              "      <th>RICHpFlagElectron</th>\n",
              "      <th>EcalDLLbeMuon</th>\n",
              "      <th>TrackQualitySubdetector2</th>\n",
              "      <th>FlagPrs</th>\n",
              "      <th>DLLelectron</th>\n",
              "      <th>DLLkaon</th>\n",
              "      <th>EcalE</th>\n",
              "      <th>TrackQualityPerNDoF</th>\n",
              "      <th>DLLproton</th>\n",
              "      <th>PrsDLLbeElectron</th>\n",
              "      <th>FlagRICH1</th>\n",
              "      <th>MuonLLbeBCK</th>\n",
              "      <th>FlagHcal</th>\n",
              "      <th>EcalShowerLongitudinalParameter</th>\n",
              "      <th>Calo2dFitQuality</th>\n",
              "      <th>TrackPt</th>\n",
              "      <th>TrackDistanceToZ</th>\n",
              "      <th>RICHpFlagPion</th>\n",
              "      <th>HcalDLLbeElectron</th>\n",
              "      <th>Calo3dFitQuality</th>\n",
              "      <th>FlagEcal</th>\n",
              "      <th>MuonLLbeMuon</th>\n",
              "      <th>TrackNDoFSubdetector1</th>\n",
              "      <th>RICHpFlagProton</th>\n",
              "      <th>RICHpFlagKaon</th>\n",
              "      <th>GhostProbability</th>\n",
              "      <th>TrackQualitySubdetector1</th>\n",
              "      <th>Label</th>\n",
              "      <th>RICH_DLLbeBCK</th>\n",
              "      <th>FlagRICH2</th>\n",
              "      <th>FlagBrem</th>\n",
              "      <th>HcalDLLbeMuon</th>\n",
              "      <th>TrackNDoF</th>\n",
              "      <th>RICHpFlagMuon</th>\n",
              "      <th>RICH_DLLbeKaon</th>\n",
              "      <th>RICH_DLLbeElectron</th>\n",
              "      <th>HcalE</th>\n",
              "      <th>MuonFlag</th>\n",
              "      <th>FlagMuon</th>\n",
              "      <th>PrsE</th>\n",
              "      <th>RICH_DLLbeMuon</th>\n",
              "      <th>RICH_DLLbeProton</th>\n",
              "    </tr>\n",
              "  </thead>\n",
              "  <tbody>\n",
              "    <tr>\n",
              "      <th>0</th>\n",
              "      <td>74791.156263</td>\n",
              "      <td>15.0</td>\n",
              "      <td>0.232275</td>\n",
              "      <td>1.0</td>\n",
              "      <td>1.0</td>\n",
              "      <td>3.2</td>\n",
              "      <td>-2.505719</td>\n",
              "      <td>6.604153</td>\n",
              "      <td>1.0</td>\n",
              "      <td>1.929960</td>\n",
              "      <td>17.585680</td>\n",
              "      <td>1.0</td>\n",
              "      <td>-6.411697</td>\n",
              "      <td>-7.213295</td>\n",
              "      <td>0.000001</td>\n",
              "      <td>1.467550</td>\n",
              "      <td>-26.667494</td>\n",
              "      <td>-2.730674</td>\n",
              "      <td>1.0</td>\n",
              "      <td>-5.152923</td>\n",
              "      <td>1.0</td>\n",
              "      <td>-999.000000</td>\n",
              "      <td>19.954819</td>\n",
              "      <td>3141.930677</td>\n",
              "      <td>0.613640</td>\n",
              "      <td>1.0</td>\n",
              "      <td>-0.909544</td>\n",
              "      <td>-999.000000</td>\n",
              "      <td>1.0</td>\n",
              "      <td>-0.661823</td>\n",
              "      <td>4.0</td>\n",
              "      <td>1.0</td>\n",
              "      <td>1.0</td>\n",
              "      <td>0.018913</td>\n",
              "      <td>5.366212</td>\n",
              "      <td>Muon</td>\n",
              "      <td>-21.913000</td>\n",
              "      <td>1.0</td>\n",
              "      <td>1.0</td>\n",
              "      <td>1.015345</td>\n",
              "      <td>28.0</td>\n",
              "      <td>1.0</td>\n",
              "      <td>-7.213300</td>\n",
              "      <td>-0.280200</td>\n",
              "      <td>5586.589846</td>\n",
              "      <td>1.0</td>\n",
              "      <td>1.0</td>\n",
              "      <td>10.422315</td>\n",
              "      <td>-2.081143e-07</td>\n",
              "      <td>-24.824400</td>\n",
              "    </tr>\n",
              "    <tr>\n",
              "      <th>1</th>\n",
              "      <td>2738.489989</td>\n",
              "      <td>15.0</td>\n",
              "      <td>-0.357748</td>\n",
              "      <td>0.0</td>\n",
              "      <td>1.0</td>\n",
              "      <td>3.2</td>\n",
              "      <td>1.864351</td>\n",
              "      <td>0.263651</td>\n",
              "      <td>1.0</td>\n",
              "      <td>-2.061959</td>\n",
              "      <td>20.230680</td>\n",
              "      <td>1.0</td>\n",
              "      <td>5.453014</td>\n",
              "      <td>0.000006</td>\n",
              "      <td>1531.542000</td>\n",
              "      <td>3.570540</td>\n",
              "      <td>-0.711194</td>\n",
              "      <td>1.773806</td>\n",
              "      <td>1.0</td>\n",
              "      <td>-999.000000</td>\n",
              "      <td>0.0</td>\n",
              "      <td>33.187644</td>\n",
              "      <td>0.037601</td>\n",
              "      <td>199.573653</td>\n",
              "      <td>0.465480</td>\n",
              "      <td>1.0</td>\n",
              "      <td>0.434909</td>\n",
              "      <td>13.667366</td>\n",
              "      <td>1.0</td>\n",
              "      <td>-999.000000</td>\n",
              "      <td>10.0</td>\n",
              "      <td>0.0</td>\n",
              "      <td>0.0</td>\n",
              "      <td>0.351206</td>\n",
              "      <td>9.144749</td>\n",
              "      <td>Ghost</td>\n",
              "      <td>-0.703617</td>\n",
              "      <td>0.0</td>\n",
              "      <td>1.0</td>\n",
              "      <td>-2.394644</td>\n",
              "      <td>32.0</td>\n",
              "      <td>1.0</td>\n",
              "      <td>-0.324317</td>\n",
              "      <td>1.707283</td>\n",
              "      <td>-0.000007</td>\n",
              "      <td>0.0</td>\n",
              "      <td>1.0</td>\n",
              "      <td>43.334935</td>\n",
              "      <td>2.771583e+00</td>\n",
              "      <td>-0.648017</td>\n",
              "    </tr>\n",
              "    <tr>\n",
              "      <th>2</th>\n",
              "      <td>2161.409908</td>\n",
              "      <td>17.0</td>\n",
              "      <td>-999.000000</td>\n",
              "      <td>0.0</td>\n",
              "      <td>0.0</td>\n",
              "      <td>-999.0</td>\n",
              "      <td>-999.000000</td>\n",
              "      <td>-999.000000</td>\n",
              "      <td>0.0</td>\n",
              "      <td>-999.000000</td>\n",
              "      <td>11.619878</td>\n",
              "      <td>0.0</td>\n",
              "      <td>-999.000000</td>\n",
              "      <td>-999.000000</td>\n",
              "      <td>-999.000000</td>\n",
              "      <td>0.826442</td>\n",
              "      <td>-999.000000</td>\n",
              "      <td>-999.000000</td>\n",
              "      <td>0.0</td>\n",
              "      <td>-999.000000</td>\n",
              "      <td>0.0</td>\n",
              "      <td>-999.000000</td>\n",
              "      <td>-999.000000</td>\n",
              "      <td>94.829418</td>\n",
              "      <td>0.241891</td>\n",
              "      <td>0.0</td>\n",
              "      <td>-999.000000</td>\n",
              "      <td>-999.000000</td>\n",
              "      <td>0.0</td>\n",
              "      <td>-999.000000</td>\n",
              "      <td>5.0</td>\n",
              "      <td>0.0</td>\n",
              "      <td>0.0</td>\n",
              "      <td>0.195717</td>\n",
              "      <td>1.459992</td>\n",
              "      <td>Ghost</td>\n",
              "      <td>-999.000000</td>\n",
              "      <td>0.0</td>\n",
              "      <td>0.0</td>\n",
              "      <td>-999.000000</td>\n",
              "      <td>27.0</td>\n",
              "      <td>0.0</td>\n",
              "      <td>-999.000000</td>\n",
              "      <td>-999.000000</td>\n",
              "      <td>-999.000000</td>\n",
              "      <td>0.0</td>\n",
              "      <td>0.0</td>\n",
              "      <td>-999.000000</td>\n",
              "      <td>-9.990000e+02</td>\n",
              "      <td>-999.000000</td>\n",
              "    </tr>\n",
              "    <tr>\n",
              "      <th>3</th>\n",
              "      <td>15277.730490</td>\n",
              "      <td>20.0</td>\n",
              "      <td>-0.638984</td>\n",
              "      <td>0.0</td>\n",
              "      <td>1.0</td>\n",
              "      <td>3.2</td>\n",
              "      <td>-2.533918</td>\n",
              "      <td>-8.724949</td>\n",
              "      <td>1.0</td>\n",
              "      <td>-3.253981</td>\n",
              "      <td>15.336305</td>\n",
              "      <td>1.0</td>\n",
              "      <td>-10.616585</td>\n",
              "      <td>-39.447507</td>\n",
              "      <td>4385.688000</td>\n",
              "      <td>1.076721</td>\n",
              "      <td>-29.291509</td>\n",
              "      <td>-3.053104</td>\n",
              "      <td>1.0</td>\n",
              "      <td>-999.000000</td>\n",
              "      <td>1.0</td>\n",
              "      <td>231.190351</td>\n",
              "      <td>2.839508</td>\n",
              "      <td>808.631064</td>\n",
              "      <td>0.680705</td>\n",
              "      <td>1.0</td>\n",
              "      <td>-1.504160</td>\n",
              "      <td>1939.259641</td>\n",
              "      <td>1.0</td>\n",
              "      <td>-999.000000</td>\n",
              "      <td>9.0</td>\n",
              "      <td>0.0</td>\n",
              "      <td>1.0</td>\n",
              "      <td>0.003972</td>\n",
              "      <td>22.950573</td>\n",
              "      <td>Pion</td>\n",
              "      <td>-47.223118</td>\n",
              "      <td>1.0</td>\n",
              "      <td>1.0</td>\n",
              "      <td>-0.321242</td>\n",
              "      <td>36.0</td>\n",
              "      <td>1.0</td>\n",
              "      <td>-35.202221</td>\n",
              "      <td>-14.742319</td>\n",
              "      <td>4482.803707</td>\n",
              "      <td>0.0</td>\n",
              "      <td>1.0</td>\n",
              "      <td>2.194175</td>\n",
              "      <td>-3.070819e+00</td>\n",
              "      <td>-29.291519</td>\n",
              "    </tr>\n",
              "    <tr>\n",
              "      <th>4</th>\n",
              "      <td>7563.700195</td>\n",
              "      <td>19.0</td>\n",
              "      <td>-0.638962</td>\n",
              "      <td>0.0</td>\n",
              "      <td>1.0</td>\n",
              "      <td>3.2</td>\n",
              "      <td>-2.087146</td>\n",
              "      <td>-7.060422</td>\n",
              "      <td>1.0</td>\n",
              "      <td>-0.995816</td>\n",
              "      <td>10.954629</td>\n",
              "      <td>1.0</td>\n",
              "      <td>-8.144945</td>\n",
              "      <td>26.050386</td>\n",
              "      <td>1220.930044</td>\n",
              "      <td>0.439767</td>\n",
              "      <td>21.386587</td>\n",
              "      <td>-2.730648</td>\n",
              "      <td>1.0</td>\n",
              "      <td>-999.000000</td>\n",
              "      <td>1.0</td>\n",
              "      <td>-794.866475</td>\n",
              "      <td>1.209193</td>\n",
              "      <td>1422.569214</td>\n",
              "      <td>0.575066</td>\n",
              "      <td>1.0</td>\n",
              "      <td>-1.576249</td>\n",
              "      <td>1867.165142</td>\n",
              "      <td>1.0</td>\n",
              "      <td>-999.000000</td>\n",
              "      <td>5.0</td>\n",
              "      <td>0.0</td>\n",
              "      <td>0.0</td>\n",
              "      <td>0.015232</td>\n",
              "      <td>3.516173</td>\n",
              "      <td>Proton</td>\n",
              "      <td>15.304688</td>\n",
              "      <td>0.0</td>\n",
              "      <td>1.0</td>\n",
              "      <td>-1.038026</td>\n",
              "      <td>33.0</td>\n",
              "      <td>1.0</td>\n",
              "      <td>25.084287</td>\n",
              "      <td>-10.272412</td>\n",
              "      <td>5107.554680</td>\n",
              "      <td>0.0</td>\n",
              "      <td>1.0</td>\n",
              "      <td>0.000015</td>\n",
              "      <td>-5.373712e+00</td>\n",
              "      <td>23.653087</td>\n",
              "    </tr>\n",
              "  </tbody>\n",
              "</table>\n",
              "</div>"
            ],
            "text/plain": [
              "         TrackP  TrackNDoFSubdetector2  ...  RICH_DLLbeMuon  RICH_DLLbeProton\n",
              "0  74791.156263                   15.0  ...   -2.081143e-07        -24.824400\n",
              "1   2738.489989                   15.0  ...    2.771583e+00         -0.648017\n",
              "2   2161.409908                   17.0  ...   -9.990000e+02       -999.000000\n",
              "3  15277.730490                   20.0  ...   -3.070819e+00        -29.291519\n",
              "4   7563.700195                   19.0  ...   -5.373712e+00         23.653087\n",
              "\n",
              "[5 rows x 50 columns]"
            ]
          },
          "metadata": {
            "tags": []
          },
          "execution_count": 4
        }
      ]
    },
    {
      "cell_type": "markdown",
      "metadata": {
        "id": "-h_7uq95aWSa",
        "colab_type": "text"
      },
      "source": [
        "### List of columns in the samples"
      ]
    },
    {
      "cell_type": "markdown",
      "metadata": {
        "id": "t3Aaj6t6aWSb",
        "colab_type": "text"
      },
      "source": [
        "Here, **Spd** stands for Scintillating Pad Detector, **Prs** - Preshower, **Ecal** - electromagnetic calorimeter, **Hcal** - hadronic calorimeter, **Brem** denotes traces of the particles that were deflected by detector."
      ]
    },
    {
      "cell_type": "markdown",
      "metadata": {
        "id": "oONSojhIaWSb",
        "colab_type": "text"
      },
      "source": [
        "- ID - id value for tracks (presents only in the test file for the submitting purposes)\n",
        "- Label - string valued observable denoting particle types. Can take values \"Electron\", \"Muon\", \"Kaon\", \"Proton\", \"Pion\" and \"Ghost\". This column is absent in the test file.\n",
        "- FlagSpd - flag (0 or 1), if reconstructed track passes through Spd\n",
        "- FlagPrs - flag (0 or 1), if reconstructed track passes through Prs\n",
        "- FlagBrem - flag (0 or 1), if reconstructed track passes through Brem\n",
        "- FlagEcal - flag (0 or 1), if reconstructed track passes through Ecal\n",
        "- FlagHcal - flag (0 or 1), if reconstructed track passes through Hcal\n",
        "- FlagRICH1 - flag (0 or 1), if reconstructed track passes through the first RICH detector\n",
        "- FlagRICH2 - flag (0 or 1), if reconstructed track passes through the second RICH detector\n",
        "- FlagMuon - flag (0 or 1), if reconstructed track passes through muon stations (Muon)\n",
        "- SpdE - energy deposit associated to the track in the Spd\n",
        "- PrsE - energy deposit associated to the track in the Prs\n",
        "- EcalE - energy deposit associated to the track in the Hcal\n",
        "- HcalE - energy deposit associated to the track in the Hcal\n",
        "- PrsDLLbeElectron - delta log-likelihood for a particle candidate to be electron using information from Prs\n",
        "- BremDLLbeElectron - delta log-likelihood for a particle candidate to be electron using information from Brem\n",
        "- TrackP - particle momentum\n",
        "- TrackPt - particle transverse momentum\n",
        "- TrackNDoFSubdetector1  - number of degrees of freedom for track fit using hits in the tracking sub-detector1\n",
        "- TrackQualitySubdetector1 - chi2 quality of the track fit using hits in the tracking sub-detector1\n",
        "- TrackNDoFSubdetector2 - number of degrees of freedom for track fit using hits in the tracking sub-detector2\n",
        "- TrackQualitySubdetector2 - chi2 quality of the track fit using hits in the  tracking sub-detector2\n",
        "- TrackNDoF - number of degrees of freedom for track fit using hits in all tracking sub-detectors\n",
        "- TrackQualityPerNDoF - chi2 quality of the track fit per degree of freedom\n",
        "- TrackDistanceToZ - distance between track and z-axis (beam axis)\n",
        "- Calo2dFitQuality - quality of the 2d fit of the clusters in the calorimeter \n",
        "- Calo3dFitQuality - quality of the 3d fit in the calorimeter with assumption that particle was electron\n",
        "- EcalDLLbeElectron - delta log-likelihood for a particle candidate to be electron using information from Ecal\n",
        "- EcalDLLbeMuon - delta log-likelihood for a particle candidate to be muon using information from Ecal\n",
        "- EcalShowerLongitudinalParameter - longitudinal parameter of Ecal shower\n",
        "- HcalDLLbeElectron - delta log-likelihood for a particle candidate to be electron using information from Hcal\n",
        "- HcalDLLbeMuon - delta log-likelihood for a particle candidate to be using information from Hcal\n",
        "- RICHpFlagElectron - flag (0 or 1) if momentum is greater than threshold for electrons to produce Cherenkov light\n",
        "- RICHpFlagProton - flag (0 or 1) if momentum is greater than threshold for protons to produce Cherenkov light\n",
        "- RICHpFlagPion - flag (0 or 1) if momentum is greater than threshold for pions to produce Cherenkov light\n",
        "- RICHpFlagKaon - flag (0 or 1) if momentum is greater than threshold for kaons to produce Cherenkov light\n",
        "- RICHpFlagMuon - flag (0 or 1) if momentum is greater than threshold for muons to produce Cherenkov light\n",
        "- RICH_DLLbeBCK  - delta log-likelihood for a particle candidate to be background using information from RICH\n",
        "- RICH_DLLbeKaon - delta log-likelihood for a particle candidate to be kaon using information from RICH\n",
        "- RICH_DLLbeElectron - delta log-likelihood for a particle candidate to be electron using information from RICH\n",
        "- RICH_DLLbeMuon - delta log-likelihood for a particle candidate to be muon using information from RICH\n",
        "- RICH_DLLbeProton - delta log-likelihood for a particle candidate to be proton using information from RICH\n",
        "- MuonFlag - muon flag (is this track muon) which is determined from muon stations\n",
        "- MuonLooseFlag muon flag (is this track muon) which is determined from muon stations using looser criteria\n",
        "- MuonLLbeBCK - log-likelihood for a particle candidate to be not muon using information from muon stations\n",
        "- MuonLLbeMuon - log-likelihood for a particle candidate to be muon using information from muon stations\n",
        "- DLLelectron - delta log-likelihood for a particle candidate to be electron using information from all subdetectors\n",
        "- DLLmuon - delta log-likelihood for a particle candidate to be muon using information from all subdetectors\n",
        "- DLLkaon - delta log-likelihood for a particle candidate to be kaon using information from all subdetectors\n",
        "- DLLproton - delta log-likelihood for a particle candidate to be proton using information from all subdetectors\n",
        "- GhostProbability - probability for a particle candidate to be ghost track. This variable is an output of classification model used in the tracking algorithm."
      ]
    },
    {
      "cell_type": "markdown",
      "metadata": {
        "id": "POAfC-ndaWSc",
        "colab_type": "text"
      },
      "source": [
        "Delta log-likelihood in the features descriptions means the difference between log-likelihood for the mass hypothesis that a given track is left by some particle (for example, electron) and log-likelihood for the mass hypothesis that a given track is left by a pion (so, DLLpion = 0 and thus we don't have these columns). This is done since most tracks (~80%) are left by pions and in practice we actually need to discriminate other particles from pions. In other words, the null hypothesis is that particle is a pion."
      ]
    },
    {
      "cell_type": "markdown",
      "metadata": {
        "id": "hb2LxgNEaWSc",
        "colab_type": "text"
      },
      "source": [
        "### Look at the labels set\n",
        "\n",
        "The training data contains six classes. Each class corresponds to a particle type. Your task is to predict type of a particle."
      ]
    },
    {
      "cell_type": "code",
      "metadata": {
        "id": "t5JgfBB5aWSd",
        "colab_type": "code",
        "colab": {
          "base_uri": "https://localhost:8080/",
          "height": 33
        },
        "outputId": "37fabb6a-9065-44b2-9980-2075fb902cfe"
      },
      "source": [
        "set(data.Label)"
      ],
      "execution_count": 5,
      "outputs": [
        {
          "output_type": "execute_result",
          "data": {
            "text/plain": [
              "{'Electron', 'Ghost', 'Kaon', 'Muon', 'Pion', 'Proton'}"
            ]
          },
          "metadata": {
            "tags": []
          },
          "execution_count": 5
        }
      ]
    },
    {
      "cell_type": "markdown",
      "metadata": {
        "id": "MCixt0R3aWSf",
        "colab_type": "text"
      },
      "source": [
        "Convert the particle types into class numbers."
      ]
    },
    {
      "cell_type": "code",
      "metadata": {
        "id": "wu_0zA5kaWSf",
        "colab_type": "code",
        "colab": {
          "base_uri": "https://localhost:8080/",
          "height": 33
        },
        "outputId": "75570d68-196b-4f61-873c-26f47b27a9cc"
      },
      "source": [
        "data['Class'] = utils.get_class_ids(data.Label.values)\n",
        "set(data.Class)"
      ],
      "execution_count": 6,
      "outputs": [
        {
          "output_type": "execute_result",
          "data": {
            "text/plain": [
              "{0, 1, 2, 3, 4, 5}"
            ]
          },
          "metadata": {
            "tags": []
          },
          "execution_count": 6
        }
      ]
    },
    {
      "cell_type": "markdown",
      "metadata": {
        "id": "YDhDaBhdaWSj",
        "colab_type": "text"
      },
      "source": [
        "### Define training features\n",
        "\n",
        "The following set of features describe particle responses in the detector systems:\n",
        "\n",
        "![features](pic/features.jpeg)\n",
        "\n",
        "Also there are several combined features. The full list is following."
      ]
    },
    {
      "cell_type": "code",
      "metadata": {
        "id": "GAWwytk9aWSj",
        "colab_type": "code",
        "colab": {
          "base_uri": "https://localhost:8080/",
          "height": 836
        },
        "outputId": "af09f52e-f9fa-4282-881e-0630b75e243c"
      },
      "source": [
        "features = list(set(data.columns) - {'Label', 'Class'})\n",
        "features"
      ],
      "execution_count": 7,
      "outputs": [
        {
          "output_type": "execute_result",
          "data": {
            "text/plain": [
              "['HcalDLLbeMuon',\n",
              " 'EcalShowerLongitudinalParameter',\n",
              " 'RICH_DLLbeBCK',\n",
              " 'FlagBrem',\n",
              " 'SpdE',\n",
              " 'MuonFlag',\n",
              " 'MuonLLbeMuon',\n",
              " 'TrackNDoFSubdetector2',\n",
              " 'HcalE',\n",
              " 'RICHpFlagKaon',\n",
              " 'RICHpFlagMuon',\n",
              " 'TrackDistanceToZ',\n",
              " 'FlagMuon',\n",
              " 'FlagHcal',\n",
              " 'EcalDLLbeElectron',\n",
              " 'DLLproton',\n",
              " 'PrsDLLbeElectron',\n",
              " 'HcalDLLbeElectron',\n",
              " 'RICH_DLLbeProton',\n",
              " 'RICH_DLLbeElectron',\n",
              " 'PrsE',\n",
              " 'FlagRICH1',\n",
              " 'RICH_DLLbeMuon',\n",
              " 'RICH_DLLbeKaon',\n",
              " 'Calo2dFitQuality',\n",
              " 'EcalDLLbeMuon',\n",
              " 'Calo3dFitQuality',\n",
              " 'TrackNDoF',\n",
              " 'DLLelectron',\n",
              " 'FlagEcal',\n",
              " 'TrackP',\n",
              " 'DLLkaon',\n",
              " 'MuonLLbeBCK',\n",
              " 'RICHpFlagPion',\n",
              " 'MuonLooseFlag',\n",
              " 'RICHpFlagElectron',\n",
              " 'TrackPt',\n",
              " 'TrackQualitySubdetector2',\n",
              " 'FlagRICH2',\n",
              " 'TrackQualityPerNDoF',\n",
              " 'TrackQualitySubdetector1',\n",
              " 'GhostProbability',\n",
              " 'FlagSpd',\n",
              " 'TrackNDoFSubdetector1',\n",
              " 'RICHpFlagProton',\n",
              " 'BremDLLbeElectron',\n",
              " 'EcalE',\n",
              " 'FlagPrs',\n",
              " 'DLLmuon']"
            ]
          },
          "metadata": {
            "tags": []
          },
          "execution_count": 7
        }
      ]
    },
    {
      "cell_type": "markdown",
      "metadata": {
        "id": "qIIQxGBUaWSm",
        "colab_type": "text"
      },
      "source": [
        "### Divide training data into 2 parts"
      ]
    },
    {
      "cell_type": "code",
      "metadata": {
        "id": "THkrNMoGaWSm",
        "colab_type": "code",
        "colab": {}
      },
      "source": [
        "training_data, validation_data = train_test_split(data, random_state=11, train_size=0.90)"
      ],
      "execution_count": 0,
      "outputs": []
    },
    {
      "cell_type": "code",
      "metadata": {
        "id": "fXoHmnqTaWSo",
        "colab_type": "code",
        "colab": {
          "base_uri": "https://localhost:8080/",
          "height": 33
        },
        "outputId": "caf9e539-faea-4e96-86ef-d9519f4869f7"
      },
      "source": [
        "len(training_data), len(validation_data)"
      ],
      "execution_count": 9,
      "outputs": [
        {
          "output_type": "execute_result",
          "data": {
            "text/plain": [
              "(1080000, 120000)"
            ]
          },
          "metadata": {
            "tags": []
          },
          "execution_count": 9
        }
      ]
    },
    {
      "cell_type": "markdown",
      "metadata": {
        "id": "-jyF4dLFaWSr",
        "colab_type": "text"
      },
      "source": [
        "# Sklearn classifier\n",
        "\n",
        "On this step your task is to train **Sklearn** classifier to provide lower **log loss** value.\n",
        "\n",
        "\n",
        "TASK: your task is to tune the classifier parameters to achieve the lowest **log loss** value on the validation sample you can."
      ]
    },
    {
      "cell_type": "code",
      "metadata": {
        "id": "nSyCrWlPfdVd",
        "colab_type": "code",
        "colab": {}
      },
      "source": [
        "from sklearn.preprocessing import StandardScaler\n",
        "\n",
        "scaler = StandardScaler()\n",
        "\n",
        "training_scaled = scaler.fit_transform(training_data[features].values)\n",
        "validation_scaled = scaler.transform(validation_data[features].values)"
      ],
      "execution_count": 0,
      "outputs": []
    },
    {
      "cell_type": "code",
      "metadata": {
        "id": "_HuU2TvjaWSr",
        "colab_type": "code",
        "colab": {}
      },
      "source": [
        "from sklearn.ensemble import GradientBoostingClassifier"
      ],
      "execution_count": 0,
      "outputs": []
    },
    {
      "cell_type": "code",
      "metadata": {
        "id": "7jcU8UckaWSu",
        "colab_type": "code",
        "colab": {
          "base_uri": "https://localhost:8080/",
          "height": 184
        },
        "outputId": "58be9773-b163-47db-ab25-c6450914c987"
      },
      "source": [
        "gb = GradientBoostingClassifier(learning_rate=0.1, \n",
        "                                n_estimators=50, \n",
        "                                subsample=0.8, \n",
        "                                random_state=13,\n",
        "                                min_samples_leaf=1, \n",
        "                                max_depth=3)\n",
        "\n",
        "gb.fit(training_scaled, training_data.Class.values)"
      ],
      "execution_count": 12,
      "outputs": [
        {
          "output_type": "execute_result",
          "data": {
            "text/plain": [
              "GradientBoostingClassifier(ccp_alpha=0.0, criterion='friedman_mse', init=None,\n",
              "                           learning_rate=0.1, loss='deviance', max_depth=3,\n",
              "                           max_features=None, max_leaf_nodes=None,\n",
              "                           min_impurity_decrease=0.0, min_impurity_split=None,\n",
              "                           min_samples_leaf=1, min_samples_split=2,\n",
              "                           min_weight_fraction_leaf=0.0, n_estimators=50,\n",
              "                           n_iter_no_change=None, presort='deprecated',\n",
              "                           random_state=13, subsample=0.8, tol=0.0001,\n",
              "                           validation_fraction=0.1, verbose=0,\n",
              "                           warm_start=False)"
            ]
          },
          "metadata": {
            "tags": []
          },
          "execution_count": 12
        }
      ]
    },
    {
      "cell_type": "markdown",
      "metadata": {
        "id": "8gahRt9naWSx",
        "colab_type": "text"
      },
      "source": [
        "### Log loss on the cross validation sample"
      ]
    },
    {
      "cell_type": "code",
      "metadata": {
        "id": "swSQZ391aWSx",
        "colab_type": "code",
        "colab": {}
      },
      "source": [
        "# predict each track\n",
        "proba_gb = gb.predict_proba(validation_data[features].values)"
      ],
      "execution_count": 0,
      "outputs": []
    },
    {
      "cell_type": "code",
      "metadata": {
        "id": "rHnjaidzaWSz",
        "colab_type": "code",
        "colab": {
          "base_uri": "https://localhost:8080/",
          "height": 33
        },
        "outputId": "90d37641-d15c-41bf-dea5-86c22fd64050"
      },
      "source": [
        "log_loss(validation_data.Class.values, proba_gb)"
      ],
      "execution_count": 14,
      "outputs": [
        {
          "output_type": "execute_result",
          "data": {
            "text/plain": [
              "1.3844488335271523"
            ]
          },
          "metadata": {
            "tags": []
          },
          "execution_count": 14
        }
      ]
    },
    {
      "cell_type": "markdown",
      "metadata": {
        "id": "5FI_aWjLaWS1",
        "colab_type": "text"
      },
      "source": [
        "# Keras neural network\n",
        "\n",
        "On this step your task is to train **Keras** NN classifier to provide lower **log loss** value.\n",
        "\n",
        "\n",
        "TASK: your task is to tune the classifier parameters to achieve the lowest **log loss** value on the validation sample you can. Data preprocessing may help you to improve your score."
      ]
    },
    {
      "cell_type": "code",
      "metadata": {
        "id": "dfLz123FaWS2",
        "colab_type": "code",
        "colab": {
          "base_uri": "https://localhost:8080/",
          "height": 33
        },
        "outputId": "9c429112-c85c-4163-f1f7-b42044b445f7"
      },
      "source": [
        "from keras.layers.core import Dense, Activation\n",
        "from keras.models import Sequential\n",
        "from keras.optimizers import Adam\n",
        "from keras.utils import np_utils"
      ],
      "execution_count": 15,
      "outputs": [
        {
          "output_type": "stream",
          "text": [
            "Using TensorFlow backend.\n"
          ],
          "name": "stderr"
        }
      ]
    },
    {
      "cell_type": "code",
      "metadata": {
        "id": "O2XtZvIyaWS4",
        "colab_type": "code",
        "colab": {}
      },
      "source": [
        "def nn_model(input_dim):\n",
        "    model = Sequential()\n",
        "    model.add(Dense(128, input_dim=input_dim))\n",
        "    model.add(Activation('tanh'))\n",
        "\n",
        "    model.add(Dense(64))\n",
        "    model.add(Activation('relu'))\n",
        "\n",
        "    model.add(Dense(6))\n",
        "    model.add(Activation('softmax'))\n",
        "\n",
        "    model.compile(loss='categorical_crossentropy', optimizer=Adam())\n",
        "    return model"
      ],
      "execution_count": 0,
      "outputs": []
    },
    {
      "cell_type": "code",
      "metadata": {
        "id": "hXpOPJZ-aWS6",
        "colab_type": "code",
        "colab": {
          "base_uri": "https://localhost:8080/",
          "height": 1000
        },
        "outputId": "bc643618-6213-455d-b204-d694aa42109a"
      },
      "source": [
        "nn = nn_model(len(features))\n",
        "\n",
        "nn.fit(training_scaled,\n",
        "       np_utils.to_categorical(training_data.Class.values), \n",
        "       verbose=1, \n",
        "       nb_epoch=50, \n",
        "       batch_size=256)"
      ],
      "execution_count": 18,
      "outputs": [
        {
          "output_type": "stream",
          "text": [
            "/usr/local/lib/python3.6/dist-packages/ipykernel_launcher.py:7: UserWarning: The `nb_epoch` argument in `fit` has been renamed `epochs`.\n",
            "  import sys\n"
          ],
          "name": "stderr"
        },
        {
          "output_type": "stream",
          "text": [
            "Epoch 1/50\n",
            "1080000/1080000 [==============================] - 9s 8us/step - loss: 0.6808\n",
            "Epoch 2/50\n",
            "1080000/1080000 [==============================] - 9s 8us/step - loss: 0.6152\n",
            "Epoch 3/50\n",
            "1080000/1080000 [==============================] - 9s 8us/step - loss: 0.6039\n",
            "Epoch 4/50\n",
            "1080000/1080000 [==============================] - 9s 8us/step - loss: 0.5974\n",
            "Epoch 5/50\n",
            "1080000/1080000 [==============================] - 9s 8us/step - loss: 0.5929\n",
            "Epoch 6/50\n",
            "1080000/1080000 [==============================] - 9s 8us/step - loss: 0.5894\n",
            "Epoch 7/50\n",
            "1080000/1080000 [==============================] - 10s 9us/step - loss: 0.5861\n",
            "Epoch 8/50\n",
            "1080000/1080000 [==============================] - 9s 8us/step - loss: 0.5833\n",
            "Epoch 9/50\n",
            "1080000/1080000 [==============================] - 9s 8us/step - loss: 0.5812\n",
            "Epoch 10/50\n",
            "1080000/1080000 [==============================] - 9s 8us/step - loss: 0.5790\n",
            "Epoch 11/50\n",
            "1080000/1080000 [==============================] - 9s 8us/step - loss: 0.5771\n",
            "Epoch 12/50\n",
            "1080000/1080000 [==============================] - 8s 8us/step - loss: 0.5756\n",
            "Epoch 13/50\n",
            "1080000/1080000 [==============================] - 9s 8us/step - loss: 0.5744\n",
            "Epoch 14/50\n",
            "1080000/1080000 [==============================] - 8s 8us/step - loss: 0.5729\n",
            "Epoch 15/50\n",
            "1080000/1080000 [==============================] - 9s 8us/step - loss: 0.5716\n",
            "Epoch 16/50\n",
            "1080000/1080000 [==============================] - 9s 8us/step - loss: 0.5711\n",
            "Epoch 17/50\n",
            "1080000/1080000 [==============================] - 9s 8us/step - loss: 0.5697\n",
            "Epoch 18/50\n",
            "1080000/1080000 [==============================] - 9s 8us/step - loss: 0.5691\n",
            "Epoch 19/50\n",
            "1080000/1080000 [==============================] - 9s 8us/step - loss: 0.5684\n",
            "Epoch 20/50\n",
            "1080000/1080000 [==============================] - 9s 8us/step - loss: 0.5676\n",
            "Epoch 21/50\n",
            "1080000/1080000 [==============================] - 9s 8us/step - loss: 0.5670\n",
            "Epoch 22/50\n",
            "1080000/1080000 [==============================] - 9s 8us/step - loss: 0.5664\n",
            "Epoch 23/50\n",
            "1080000/1080000 [==============================] - 9s 8us/step - loss: 0.5656\n",
            "Epoch 24/50\n",
            "1080000/1080000 [==============================] - 9s 8us/step - loss: 0.5652\n",
            "Epoch 25/50\n",
            "1080000/1080000 [==============================] - 9s 8us/step - loss: 0.5647\n",
            "Epoch 26/50\n",
            "1080000/1080000 [==============================] - 9s 8us/step - loss: 0.5641\n",
            "Epoch 27/50\n",
            "1080000/1080000 [==============================] - 9s 8us/step - loss: 0.5639\n",
            "Epoch 28/50\n",
            "1080000/1080000 [==============================] - 9s 8us/step - loss: 0.5634\n",
            "Epoch 29/50\n",
            "1080000/1080000 [==============================] - 9s 8us/step - loss: 0.5628\n",
            "Epoch 30/50\n",
            "1080000/1080000 [==============================] - 9s 8us/step - loss: 0.5625\n",
            "Epoch 31/50\n",
            "1080000/1080000 [==============================] - 9s 8us/step - loss: 0.5620\n",
            "Epoch 32/50\n",
            "1080000/1080000 [==============================] - 9s 8us/step - loss: 0.5618\n",
            "Epoch 33/50\n",
            "1080000/1080000 [==============================] - 9s 8us/step - loss: 0.5614\n",
            "Epoch 34/50\n",
            "1080000/1080000 [==============================] - 9s 8us/step - loss: 0.5609\n",
            "Epoch 35/50\n",
            "1080000/1080000 [==============================] - 9s 8us/step - loss: 0.5607\n",
            "Epoch 36/50\n",
            "1080000/1080000 [==============================] - 9s 8us/step - loss: 0.5604\n",
            "Epoch 37/50\n",
            "1080000/1080000 [==============================] - 9s 8us/step - loss: 0.5601\n",
            "Epoch 38/50\n",
            "1080000/1080000 [==============================] - 9s 8us/step - loss: 0.5600\n",
            "Epoch 39/50\n",
            "1080000/1080000 [==============================] - 9s 8us/step - loss: 0.5595\n",
            "Epoch 40/50\n",
            "1080000/1080000 [==============================] - 9s 8us/step - loss: 0.5593\n",
            "Epoch 41/50\n",
            "1080000/1080000 [==============================] - 9s 8us/step - loss: 0.5589\n",
            "Epoch 42/50\n",
            "1080000/1080000 [==============================] - 9s 8us/step - loss: 0.5587\n",
            "Epoch 43/50\n",
            "1080000/1080000 [==============================] - 11s 11us/step - loss: 0.5585\n",
            "Epoch 44/50\n",
            "1080000/1080000 [==============================] - 9s 8us/step - loss: 0.5583\n",
            "Epoch 45/50\n",
            "1080000/1080000 [==============================] - 9s 8us/step - loss: 0.5582\n",
            "Epoch 46/50\n",
            "1080000/1080000 [==============================] - 9s 8us/step - loss: 0.5577\n",
            "Epoch 47/50\n",
            "1080000/1080000 [==============================] - 9s 8us/step - loss: 0.5574\n",
            "Epoch 48/50\n",
            "1080000/1080000 [==============================] - 9s 8us/step - loss: 0.5573\n",
            "Epoch 49/50\n",
            "1080000/1080000 [==============================] - 9s 8us/step - loss: 0.5571\n",
            "Epoch 50/50\n",
            "1080000/1080000 [==============================] - 9s 8us/step - loss: 0.5569\n"
          ],
          "name": "stdout"
        },
        {
          "output_type": "execute_result",
          "data": {
            "text/plain": [
              "<keras.callbacks.callbacks.History at 0x7fe128e139b0>"
            ]
          },
          "metadata": {
            "tags": []
          },
          "execution_count": 18
        }
      ]
    },
    {
      "cell_type": "markdown",
      "metadata": {
        "id": "fNtWvPeTaWS7",
        "colab_type": "text"
      },
      "source": [
        "### Log loss on the cross validation sample"
      ]
    },
    {
      "cell_type": "code",
      "metadata": {
        "id": "1X1F3616aWS8",
        "colab_type": "code",
        "colab": {}
      },
      "source": [
        "# predict each track\n",
        "proba_nn = nn.predict_proba(validation_scaled)"
      ],
      "execution_count": 0,
      "outputs": []
    },
    {
      "cell_type": "code",
      "metadata": {
        "id": "9Hl9Tob6aWS-",
        "colab_type": "code",
        "colab": {
          "base_uri": "https://localhost:8080/",
          "height": 33
        },
        "outputId": "45db973f-a636-4f40-865b-01348a792773"
      },
      "source": [
        "log_loss(validation_data.Class.values, proba_nn)"
      ],
      "execution_count": 22,
      "outputs": [
        {
          "output_type": "execute_result",
          "data": {
            "text/plain": [
              "0.5652592464094078"
            ]
          },
          "metadata": {
            "tags": []
          },
          "execution_count": 22
        }
      ]
    },
    {
      "cell_type": "markdown",
      "metadata": {
        "id": "det0-I5OaWTB",
        "colab_type": "text"
      },
      "source": [
        "# Quality metrics\n",
        "\n",
        "Plot ROC curves and signal efficiency dependece from particle mometum and transverse momentum values."
      ]
    },
    {
      "cell_type": "code",
      "metadata": {
        "id": "W4CufaRWaWTC",
        "colab_type": "code",
        "colab": {}
      },
      "source": [
        "proba = proba_nn"
      ],
      "execution_count": 0,
      "outputs": []
    },
    {
      "cell_type": "code",
      "metadata": {
        "id": "Ueo7Yw1saWTE",
        "colab_type": "code",
        "colab": {
          "base_uri": "https://localhost:8080/",
          "height": 416
        },
        "outputId": "56e485e9-43fa-4c09-92a9-4c5f6f3b3104"
      },
      "source": [
        "utils.plot_roc_curves(proba, validation_data.Class.values)"
      ],
      "execution_count": 24,
      "outputs": [
        {
          "output_type": "display_data",
          "data": {
            "image/png": "[encoded data removed]",
            "text/plain": [
              "<Figure size 648x432 with 1 Axes>"
            ]
          },
          "metadata": {
            "tags": [],
            "needs_background": "light"
          }
        }
      ]
    },
    {
      "cell_type": "code",
      "metadata": {
        "id": "-c03AGAcaWTG",
        "colab_type": "code",
        "colab": {
          "base_uri": "https://localhost:8080/",
          "height": 765
        },
        "outputId": "1a704b4e-064d-4167-d41d-eeaab055b6e1"
      },
      "source": [
        "utils.plot_signal_efficiency_on_p(proba, validation_data.Class.values, validation_data.TrackP.values, 60, 50)\n",
        "plt.show()"
      ],
      "execution_count": 25,
      "outputs": [
        {
          "output_type": "display_data",
          "data": {
            "image/png": "[encoded data removed]",
            "text/plain": [
              "<Figure size 792x756 with 6 Axes>"
            ]
          },
          "metadata": {
            "tags": [],
            "needs_background": "light"
          }
        }
      ]
    },
    {
      "cell_type": "code",
      "metadata": {
        "id": "PWhOrCOEaWTI",
        "colab_type": "code",
        "colab": {
          "base_uri": "https://localhost:8080/",
          "height": 765
        },
        "outputId": "12c0518f-d17f-483f-c59c-7cfe636c5e71"
      },
      "source": [
        "utils.plot_signal_efficiency_on_pt(proba, validation_data.Class.values, validation_data.TrackPt.values, 60, 50)\n",
        "plt.show()"
      ],
      "execution_count": 26,
      "outputs": [
        {
          "output_type": "display_data",
          "data": {
            "image/png": "[encoded data removed]",
            "text/plain": [
              "<Figure size 792x756 with 6 Axes>"
            ]
          },
          "metadata": {
            "tags": [],
            "needs_background": "light"
          }
        }
      ]
    },
    {
      "cell_type": "markdown",
      "metadata": {
        "id": "HSUUjMD8aWTK",
        "colab_type": "text"
      },
      "source": [
        "# Prepare submission\n",
        "\n",
        "Select your best classifier and prepare submission file."
      ]
    },
    {
      "cell_type": "code",
      "metadata": {
        "id": "U-FfuHtiaWTK",
        "colab_type": "code",
        "colab": {}
      },
      "source": [
        "test = pandas.read_csv('test.csv.gz')"
      ],
      "execution_count": 0,
      "outputs": []
    },
    {
      "cell_type": "code",
      "metadata": {
        "id": "DvvSFavwaWTM",
        "colab_type": "code",
        "colab": {}
      },
      "source": [
        "best_model = nn"
      ],
      "execution_count": 0,
      "outputs": []
    },
    {
      "cell_type": "code",
      "metadata": {
        "id": "xF1h3-gJUC2b",
        "colab_type": "code",
        "colab": {}
      },
      "source": [
        "test_scaled = scaler.transform(test[features])"
      ],
      "execution_count": 0,
      "outputs": []
    },
    {
      "cell_type": "code",
      "metadata": {
        "id": "6gkyQnfmaWTO",
        "colab_type": "code",
        "colab": {}
      },
      "source": [
        "# predict test sample\n",
        "submit_proba = best_model.predict_proba(test_scaled)\n",
        "submit_ids = test.ID"
      ],
      "execution_count": 0,
      "outputs": []
    },
    {
      "cell_type": "code",
      "metadata": {
        "id": "104w_p7ZaWTQ",
        "colab_type": "code",
        "colab": {
          "base_uri": "https://localhost:8080/",
          "height": 33
        },
        "outputId": "06d92a65-d0f7-40b2-a89a-a2cfb51c51ec"
      },
      "source": [
        "from IPython.display import FileLink\n",
        "utils.create_solution(submit_ids, submit_proba, filename='submission_file.csv.gz')"
      ],
      "execution_count": 31,
      "outputs": [
        {
          "output_type": "execute_result",
          "data": {
            "text/html": [
              "<a href='submission_file.csv.gz' target='_blank'>submission_file.csv.gz</a><br>"
            ],
            "text/plain": [
              "/content/submission_file.csv.gz"
            ]
          },
          "metadata": {
            "tags": []
          },
          "execution_count": 31
        }
      ]
    }
  ]
}